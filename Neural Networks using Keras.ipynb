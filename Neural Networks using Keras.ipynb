{
 "cells": [
  {
   "cell_type": "code",
   "execution_count": 2,
   "metadata": {},
   "outputs": [],
   "source": [
    "import numpy as np\n",
    "\n",
    "import matplotlib.pyplot as plt\n",
    "%matplotlib inline"
   ]
  },
  {
   "cell_type": "code",
   "execution_count": 3,
   "metadata": {},
   "outputs": [
    {
     "name": "stderr",
     "output_type": "stream",
     "text": [
      "Using TensorFlow backend.\n"
     ]
    }
   ],
   "source": [
    "import keras\n",
    "from keras.layers import Dense,Activation\n",
    "from keras.models import Sequential\n",
    "from keras.utils import np_utils"
   ]
  },
  {
   "cell_type": "code",
   "execution_count": 4,
   "metadata": {},
   "outputs": [
    {
     "data": {
      "image/png": "[encoded data removed]",
      "text/plain": [
       "<Figure size 432x288 with 1 Axes>"
      ]
     },
     "metadata": {
      "needs_background": "light"
     },
     "output_type": "display_data"
    }
   ],
   "source": [
    "from sklearn.datasets import make_circles\n",
    "\n",
    "X,y  = make_circles(n_samples = 2000,factor = 0.4)\n",
    "plt.scatter(X[:,0],X[:,1],c=y)\n",
    "plt.show()"
   ]
  },
  {
   "cell_type": "code",
   "execution_count": 5,
   "metadata": {},
   "outputs": [
    {
     "data": {
      "text/plain": [
       "(array([0, 1], dtype=int64), array([1000, 1000], dtype=int64))"
      ]
     },
     "execution_count": 5,
     "metadata": {},
     "output_type": "execute_result"
    }
   ],
   "source": [
    "np.unique(y,return_counts=True)"
   ]
  },
  {
   "cell_type": "code",
   "execution_count": 6,
   "metadata": {},
   "outputs": [
    {
     "name": "stdout",
     "output_type": "stream",
     "text": [
      "(2000, 2)\n",
      "[[0. 1.]\n",
      " [0. 1.]\n",
      " [0. 1.]\n",
      " [0. 1.]\n",
      " [1. 0.]\n",
      " [0. 1.]\n",
      " [0. 1.]\n",
      " [1. 0.]\n",
      " [0. 1.]\n",
      " [1. 0.]]\n"
     ]
    }
   ],
   "source": [
    "#now we have to convert 0 ->[1,0] and 1 ->[0,1] means into matrix\n",
    "Y = np_utils.to_categorical(y)\n",
    "print(Y.shape)\n",
    "print(Y[:10])"
   ]
  },
  {
   "cell_type": "code",
   "execution_count": 7,
   "metadata": {},
   "outputs": [
    {
     "name": "stdout",
     "output_type": "stream",
     "text": [
      "(1500, 2) (500, 2)\n",
      "(1500, 2) (500, 2)\n"
     ]
    }
   ],
   "source": [
    "from sklearn.model_selection import train_test_split\n",
    "\n",
    "X_train,X_test,y_train,y_test = train_test_split(X,Y)\n",
    "print(X_train.shape,X_test.shape)\n",
    "print(y_train.shape,y_test.shape)"
   ]
  },
  {
   "cell_type": "code",
   "execution_count": 8,
   "metadata": {},
   "outputs": [
    {
     "name": "stdout",
     "output_type": "stream",
     "text": [
      "WARNING:tensorflow:From C:\\Users\\Raghav\\Anaconda3\\lib\\site-packages\\tensorflow\\python\\framework\\op_def_library.py:263: colocate_with (from tensorflow.python.framework.ops) is deprecated and will be removed in a future version.\n",
      "Instructions for updating:\n",
      "Colocations handled automatically by placer.\n",
      "_________________________________________________________________\n",
      "Layer (type)                 Output Shape              Param #   \n",
      "=================================================================\n",
      "dense_1 (Dense)              (None, 5)                 15        \n",
      "_________________________________________________________________\n",
      "activation_1 (Activation)    (None, 5)                 0         \n",
      "_________________________________________________________________\n",
      "dense_2 (Dense)              (None, 2)                 12        \n",
      "_________________________________________________________________\n",
      "activation_2 (Activation)    (None, 2)                 0         \n",
      "=================================================================\n",
      "Total params: 27\n",
      "Trainable params: 27\n",
      "Non-trainable params: 0\n",
      "_________________________________________________________________\n"
     ]
    }
   ],
   "source": [
    "model = Sequential () # Lto R\n",
    "\n",
    "model.add(Dense(5,input_shape=(2,))) # hidden layer\n",
    "\n",
    "model.add(Activation('relu')) # till now this dense function is linear, so we will pass relu\n",
    "\n",
    "model.add(Dense(2))\n",
    "model.add(Activation('softmax'))\n",
    "model.summary()\n"
   ]
  },
  {
   "cell_type": "code",
   "execution_count": 9,
   "metadata": {},
   "outputs": [],
   "source": [
    "model.compile(optimizer='adam',\n",
    "              loss='binary_crossentropy',\n",
    "             metrics=['accuracy']) #similiar to sgd, in case of regression we will use mean squared error\n"
   ]
  },
  {
   "cell_type": "code",
   "execution_count": 11,
   "metadata": {},
   "outputs": [
    {
     "name": "stdout",
     "output_type": "stream",
     "text": [
      "WARNING:tensorflow:From C:\\Users\\Raghav\\Anaconda3\\lib\\site-packages\\tensorflow\\python\\ops\\math_ops.py:3066: to_int32 (from tensorflow.python.ops.math_ops) is deprecated and will be removed in a future version.\n",
      "Instructions for updating:\n",
      "Use tf.cast instead.\n",
      "Train on 1500 samples, validate on 500 samples\n",
      "Epoch 1/20\n",
      " - 4s - loss: 0.6727 - acc: 0.5280 - val_loss: 0.6652 - val_acc: 0.4860\n",
      "Epoch 2/20\n",
      " - 0s - loss: 0.6421 - acc: 0.5420 - val_loss: 0.6402 - val_acc: 0.5080\n",
      "Epoch 3/20\n",
      " - 0s - loss: 0.6156 - acc: 0.5840 - val_loss: 0.6146 - val_acc: 0.5960\n",
      "Epoch 4/20\n",
      " - 0s - loss: 0.5889 - acc: 0.6887 - val_loss: 0.5909 - val_acc: 0.6720\n",
      "Epoch 5/20\n",
      " - 0s - loss: 0.5651 - acc: 0.7660 - val_loss: 0.5689 - val_acc: 0.7540\n",
      "Epoch 6/20\n",
      " - 0s - loss: 0.5420 - acc: 0.8640 - val_loss: 0.5470 - val_acc: 0.8660\n",
      "Epoch 7/20\n",
      " - 0s - loss: 0.5189 - acc: 0.8747 - val_loss: 0.5245 - val_acc: 0.8700\n",
      "Epoch 8/20\n",
      " - 0s - loss: 0.4952 - acc: 0.8767 - val_loss: 0.5008 - val_acc: 0.8740\n",
      "Epoch 9/20\n",
      " - 0s - loss: 0.4702 - acc: 0.8813 - val_loss: 0.4747 - val_acc: 0.8760\n",
      "Epoch 10/20\n",
      " - 0s - loss: 0.4435 - acc: 0.8860 - val_loss: 0.4462 - val_acc: 0.9000\n",
      "Epoch 11/20\n",
      " - 0s - loss: 0.4145 - acc: 0.9420 - val_loss: 0.4154 - val_acc: 0.9720\n",
      "Epoch 12/20\n",
      " - 0s - loss: 0.3842 - acc: 0.9713 - val_loss: 0.3826 - val_acc: 0.9900\n",
      "Epoch 13/20\n",
      " - 0s - loss: 0.3531 - acc: 0.9887 - val_loss: 0.3493 - val_acc: 0.9960\n",
      "Epoch 14/20\n",
      " - 0s - loss: 0.3226 - acc: 0.9960 - val_loss: 0.3172 - val_acc: 1.0000\n",
      "Epoch 15/20\n",
      " - 0s - loss: 0.2924 - acc: 1.0000 - val_loss: 0.2865 - val_acc: 1.0000\n",
      "Epoch 16/20\n",
      " - 0s - loss: 0.2644 - acc: 1.0000 - val_loss: 0.2586 - val_acc: 1.0000\n",
      "Epoch 17/20\n",
      " - 0s - loss: 0.2387 - acc: 1.0000 - val_loss: 0.2328 - val_acc: 1.0000\n",
      "Epoch 18/20\n",
      " - 0s - loss: 0.2151 - acc: 1.0000 - val_loss: 0.2098 - val_acc: 1.0000\n",
      "Epoch 19/20\n",
      " - 0s - loss: 0.1940 - acc: 1.0000 - val_loss: 0.1888 - val_acc: 1.0000\n",
      "Epoch 20/20\n",
      " - 0s - loss: 0.1747 - acc: 1.0000 - val_loss: 0.1699 - val_acc: 1.0000\n"
     ]
    },
    {
     "data": {
      "text/plain": [
       "<keras.callbacks.History at 0x7aac634ac8>"
      ]
     },
     "execution_count": 11,
     "metadata": {},
     "output_type": "execute_result"
    }
   ],
   "source": [
    "model.fit(X_train,y_train,batch_size=16,\n",
    "          epochs = 20,\n",
    "          verbose = 2,\n",
    "          validation_data=(X_test,y_test))  # 1 epoch --> 1000/100 = 10 times iteration = 1 epoch, 50 epoch means we are seeing the training data 50 times\n",
    "                                            # means it will give details)\n",
    "                                            # after 16 it will update the gradient, 1 batch completion is 1 epochs\n",
    "                                            # less batch zise means theta updates faster, downside is that its loss fluctuates\n",
    "                                            # high batch size means loss less fluctuates, and downside means theta less baar updates"
   ]
  },
  {
   "cell_type": "code",
   "execution_count": null,
   "metadata": {},
   "outputs": [],
   "source": [
    "## adding hidden layers, we are increasing the comolexity of decison layers and no of neurons we are increasing the no of decison boundaries"
   ]
  },
  {
   "cell_type": "code",
   "execution_count": null,
   "metadata": {},
   "outputs": [],
   "source": [
    "## in testing pehle accuracy increase and then it will decrease, as in starting it is learning"
   ]
  },
  {
   "cell_type": "code",
   "execution_count": null,
   "metadata": {},
   "outputs": [],
   "source": []
  },
  {
   "cell_type": "code",
   "execution_count": null,
   "metadata": {},
   "outputs": [],
   "source": []
  },
  {
   "cell_type": "code",
   "execution_count": null,
   "metadata": {},
   "outputs": [],
   "source": []
  },
  {
   "cell_type": "code",
   "execution_count": null,
   "metadata": {},
   "outputs": [],
   "source": []
  },
  {
   "cell_type": "code",
   "execution_count": null,
   "metadata": {},
   "outputs": [],
   "source": []
  }
 ],
 "metadata": {
  "kernelspec": {
   "display_name": "Python 3",
   "language": "python",
   "name": "python3"
  },
  "language_info": {
   "codemirror_mode": {
    "name": "ipython",
    "version": 3
   },
   "file_extension": ".py",
   "mimetype": "text/x-python",
   "name": "python",
   "nbconvert_exporter": "python",
   "pygments_lexer": "ipython3",
   "version": "3.7.3"
  }
 },
 "nbformat": 4,
 "nbformat_minor": 2
}
